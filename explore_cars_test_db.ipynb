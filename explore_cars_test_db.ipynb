{
 "cells": [
  {
   "cell_type": "code",
   "execution_count": 8,
   "id": "35c7e87c",
   "metadata": {},
   "outputs": [],
   "source": [
    "import requests\n",
    "import re\n",
    "from bs4 import BeautifulSoup\n",
    "import pandas as pd\n",
    "from datetime import datetime\n",
    "import sqlite3\n",
    "import numpy as np\n",
    "\n",
    "pd.set_option('display.max_rows', 500)\n",
    "pd.set_option('display.max_columns', 500)\n",
    "pd.set_option('display.width', 1000)"
   ]
  },
  {
   "cell_type": "code",
   "execution_count": 27,
   "id": "444839b5",
   "metadata": {},
   "outputs": [
    {
     "data": {
      "text/html": [
       "<div>\n",
       "<style scoped>\n",
       "    .dataframe tbody tr th:only-of-type {\n",
       "        vertical-align: middle;\n",
       "    }\n",
       "\n",
       "    .dataframe tbody tr th {\n",
       "        vertical-align: top;\n",
       "    }\n",
       "\n",
       "    .dataframe thead th {\n",
       "        text-align: right;\n",
       "    }\n",
       "</style>\n",
       "<table border=\"1\" class=\"dataframe\">\n",
       "  <thead>\n",
       "    <tr style=\"text-align: right;\">\n",
       "      <th></th>\n",
       "      <th>count(*)</th>\n",
       "    </tr>\n",
       "  </thead>\n",
       "  <tbody>\n",
       "    <tr>\n",
       "      <th>0</th>\n",
       "      <td>187</td>\n",
       "    </tr>\n",
       "  </tbody>\n",
       "</table>\n",
       "</div>"
      ],
      "text/plain": [
       "   count(*)\n",
       "0       187"
      ]
     },
     "execution_count": 27,
     "metadata": {},
     "output_type": "execute_result"
    }
   ],
   "source": [
    "conn = sqlite3.connect('./dealerships_scraper/data/cars_test.db')\n",
    "#conn = sqlite3.connect('demo.db')\n",
    "\n",
    "sql_query = '''\n",
    "\n",
    "      SELECT\n",
    "          count(*) \n",
    "      FROM\n",
    "        inventory_test;\n",
    "\n",
    "'''\n",
    "result = pd.read_sql_query(sql_query, conn)\n",
    "result[:3]"
   ]
  },
  {
   "cell_type": "code",
   "execution_count": 26,
   "id": "77c29ddb",
   "metadata": {},
   "outputs": [
    {
     "data": {
      "text/html": [
       "<div>\n",
       "<style scoped>\n",
       "    .dataframe tbody tr th:only-of-type {\n",
       "        vertical-align: middle;\n",
       "    }\n",
       "\n",
       "    .dataframe tbody tr th {\n",
       "        vertical-align: top;\n",
       "    }\n",
       "\n",
       "    .dataframe thead th {\n",
       "        text-align: right;\n",
       "    }\n",
       "</style>\n",
       "<table border=\"1\" class=\"dataframe\">\n",
       "  <thead>\n",
       "    <tr style=\"text-align: right;\">\n",
       "      <th></th>\n",
       "      <th>vin</th>\n",
       "      <th>title</th>\n",
       "      <th>year</th>\n",
       "      <th>make</th>\n",
       "      <th>model</th>\n",
       "      <th>trim</th>\n",
       "      <th>model_trim</th>\n",
       "      <th>price</th>\n",
       "      <th>mileage</th>\n",
       "      <th>vehicle_type</th>\n",
       "      <th>interior_color</th>\n",
       "      <th>exterior_color</th>\n",
       "      <th>transmission</th>\n",
       "      <th>engine</th>\n",
       "      <th>drivetrain</th>\n",
       "    </tr>\n",
       "  </thead>\n",
       "  <tbody>\n",
       "    <tr>\n",
       "      <th>0</th>\n",
       "      <td>WBA73BJ04MWX00541</td>\n",
       "      <td>2021 BMW 5 Series 540i xDrive Sedan</td>\n",
       "      <td>2021</td>\n",
       "      <td>BMW</td>\n",
       "      <td>5 Series</td>\n",
       "      <td>540i xDrive</td>\n",
       "      <td>BMW 5 Series</td>\n",
       "      <td>57990.0</td>\n",
       "      <td>20966</td>\n",
       "      <td>Sedan</td>\n",
       "      <td>Black</td>\n",
       "      <td>Bernina Grey Amber Effect Metallic</td>\n",
       "      <td>Automatic</td>\n",
       "      <td>Intercooled Turbo Gas/Electric I-6 3.0 L/183</td>\n",
       "      <td>AWD</td>\n",
       "    </tr>\n",
       "  </tbody>\n",
       "</table>\n",
       "</div>"
      ],
      "text/plain": [
       "                 vin                                title  year make     model         trim    model_trim    price  mileage vehicle_type interior_color                       exterior_color transmission                                         engine drivetrain\n",
       "0  WBA73BJ04MWX00541  2021 BMW 5 Series 540i xDrive Sedan  2021  BMW  5 Series  540i xDrive  BMW 5 Series  57990.0    20966        Sedan          Black   Bernina Grey Amber Effect Metallic    Automatic   Intercooled Turbo Gas/Electric I-6 3.0 L/183        AWD"
      ]
     },
     "execution_count": 26,
     "metadata": {},
     "output_type": "execute_result"
    }
   ],
   "source": [
    "# WBA73BJ04MWX00541\n",
    "conn = sqlite3.connect('./dealerships_scraper/data/cars_test.db')\n",
    "sql_query = '''\n",
    "\n",
    "      SELECT\n",
    "          * \n",
    "      FROM\n",
    "        inventory_test where vin = 'WBA73BJ04MWX00541';\n",
    "\n",
    "'''\n",
    "result = pd.read_sql_query(sql_query, conn)\n",
    "result"
   ]
  },
  {
   "cell_type": "code",
   "execution_count": 23,
   "id": "a167d3a6",
   "metadata": {},
   "outputs": [
    {
     "name": "stdout",
     "output_type": "stream",
     "text": [
      "Table dropped... \n"
     ]
    }
   ],
   "source": [
    "####### Drop Table\n",
    "\n",
    "TABLE_NAME = 'inventory_test'\n",
    "DB_NAME = './dealerships_scraper/data/cars_test.db'\n",
    "\n",
    "#Connecting to sqlite\n",
    "conn = sqlite3.connect(DB_NAME)\n",
    "\n",
    "#Creating a cursor object using the cursor() method\n",
    "cursor = conn.cursor()\n",
    "\n",
    "#Doping EMPLOYEE table if already exists\n",
    "cursor.execute(f\"DROP TABLE {TABLE_NAME}\")\n",
    "print(\"Table dropped... \")\n",
    "\n",
    "#Commit your changes in the database\n",
    "conn.commit()\n",
    "\n",
    "#Closing the connection\n",
    "conn.close()\n"
   ]
  },
  {
   "cell_type": "code",
   "execution_count": null,
   "id": "87b97e9c",
   "metadata": {},
   "outputs": [],
   "source": []
  },
  {
   "cell_type": "code",
   "execution_count": null,
   "id": "4fddd17a",
   "metadata": {},
   "outputs": [],
   "source": []
  }
 ],
 "metadata": {
  "kernelspec": {
   "display_name": "Python 3 (ipykernel)",
   "language": "python",
   "name": "python3"
  },
  "language_info": {
   "codemirror_mode": {
    "name": "ipython",
    "version": 3
   },
   "file_extension": ".py",
   "mimetype": "text/x-python",
   "name": "python",
   "nbconvert_exporter": "python",
   "pygments_lexer": "ipython3",
   "version": "3.10.4"
  }
 },
 "nbformat": 4,
 "nbformat_minor": 5
}
